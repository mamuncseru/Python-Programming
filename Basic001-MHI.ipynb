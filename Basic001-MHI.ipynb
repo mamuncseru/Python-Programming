{
 "cells": [
  {
   "cell_type": "markdown",
   "metadata": {},
   "source": [
    "# Python Programming Basics"
   ]
  },
  {
   "cell_type": "markdown",
   "metadata": {},
   "source": [
    "**Practice Topics**\n",
    "- Conditional\n",
    "- Functions\n",
    "- The While Loop\n",
    "- Break, Continue and the Try Statement\n",
    "- The For Loop\n",
    "- Classes"
   ]
  },
  {
   "cell_type": "markdown",
   "metadata": {},
   "source": [
    "> Make a program which will determine a year is a leap year or not?\n",
    "\n",
    "> Build a xor function with n inputs."
   ]
  },
  {
   "cell_type": "code",
   "execution_count": 1,
   "metadata": {},
   "outputs": [
    {
     "name": "stdout",
     "output_type": "stream",
     "text": [
      "Year: 30\n",
      "Nah\n"
     ]
    }
   ],
   "source": [
    "a = input(\"Year: \")\n",
    "if (int(a) % 100) != 0:\n",
    "    if (int(a) % 4) == 0:\n",
    "        print('Leap Year')\n",
    "    else:\n",
    "        print('Nah')\n",
    "else:\n",
    "    print('Nah')"
   ]
  },
  {
   "cell_type": "code",
   "execution_count": null,
   "metadata": {},
   "outputs": [],
   "source": []
  }
 ],
 "metadata": {
  "kernelspec": {
   "display_name": "Python 3",
   "language": "python",
   "name": "python3"
  },
  "language_info": {
   "codemirror_mode": {
    "name": "ipython",
    "version": 3
   },
   "file_extension": ".py",
   "mimetype": "text/x-python",
   "name": "python",
   "nbconvert_exporter": "python",
   "pygments_lexer": "ipython3",
   "version": "3.8.8"
  }
 },
 "nbformat": 4,
 "nbformat_minor": 4
}

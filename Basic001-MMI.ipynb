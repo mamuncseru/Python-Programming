{
  "nbformat": 4,
  "nbformat_minor": 0,
  "metadata": {
    "kernelspec": {
      "display_name": "Python 3",
      "language": "python",
      "name": "python3"
    },
    "language_info": {
      "codemirror_mode": {
        "name": "ipython",
        "version": 3
      },
      "file_extension": ".py",
      "mimetype": "text/x-python",
      "name": "python",
      "nbconvert_exporter": "python",
      "pygments_lexer": "ipython3",
      "version": "3.7.3"
    },
    "colab": {
      "name": "Basic001-MMI.ipynb",
      "provenance": [],
      "collapsed_sections": []
    }
  },
  "cells": [
    {
      "cell_type": "markdown",
      "metadata": {
        "id": "YvzLRYug_6aS"
      },
      "source": [
        "# Python Programming Basics"
      ]
    },
    {
      "cell_type": "markdown",
      "metadata": {
        "id": "Yr5LmYrU_6aU"
      },
      "source": [
        "**Practice Topics**\n",
        "- Conditional\n",
        "- Functions\n",
        "- The While Loop\n",
        "- Break, Continue and the Try Statement\n",
        "- The For Loop\n",
        "- Classes"
      ]
    },
    {
      "cell_type": "markdown",
      "metadata": {
        "id": "-jCWKi8s_6aV"
      },
      "source": [
        "> Make a program which will determine a year is a leap year or not?\n",
        "\n",
        "> Build a xor function with n inputs."
      ]
    },
    {
      "cell_type": "code",
      "metadata": {
        "colab": {
          "base_uri": "https://localhost:8080/"
        },
        "id": "tS7xG3Gn_6aW",
        "outputId": "a326622a-4b92-44bd-8144-ef918fbaba7d"
      },
      "source": [
        "year = [2000,2001,2002]\n",
        "\n",
        "year"
      ],
      "execution_count": null,
      "outputs": [
        {
          "output_type": "execute_result",
          "data": {
            "text/plain": [
              "[2000, 2001, 2002]"
            ]
          },
          "metadata": {
            "tags": []
          },
          "execution_count": 1
        }
      ]
    },
    {
      "cell_type": "code",
      "metadata": {
        "id": "PW4yROvf_6aW"
      },
      "source": [
        "for i in year:\n",
        "  if(i%100!=0 and i%400==0):\n",
        "    print(\"leap Year\")\n",
        "    "
      ],
      "execution_count": null,
      "outputs": []
    },
    {
      "cell_type": "code",
      "metadata": {
        "id": "tP37oh-QA0Wy"
      },
      "source": [
        ""
      ],
      "execution_count": null,
      "outputs": []
    }
  ]
}
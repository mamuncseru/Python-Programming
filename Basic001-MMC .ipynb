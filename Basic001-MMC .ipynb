{
 "cells": [
  {
   "cell_type": "markdown",
   "metadata": {
    "id": "W_Dqb0un_3bv"
   },
   "source": [
    "# Python Programming Basics"
   ]
  },
  {
   "cell_type": "markdown",
   "metadata": {
    "id": "Qq30DJZB_3bz"
   },
   "source": [
    "**Practice Topics**\n",
    "- Conditional\n",
    "- Functions\n",
    "- The While Loop\n",
    "- Break, Continue and the Try Statement\n",
    "- The For Loop\n",
    "- Classes"
   ]
  },
  {
   "cell_type": "markdown",
   "metadata": {
    "id": "wi9bBHtq_3b0"
   },
   "source": [
    "> Make a program which will determine a year is a leap year or not?\n",
    "\n",
    "> Build a xor function with n inputs."
   ]
  },
  {
   "cell_type": "code",
   "execution_count": 4,
   "metadata": {
    "colab": {
     "base_uri": "https://localhost:8080/"
    },
    "id": "iowoJbEY_3b1",
    "outputId": "f191e12f-1bd4-4777-9caa-2d3e9807d687"
   },
   "outputs": [
    {
     "name": "stdout",
     "output_type": "stream",
     "text": [
      "Enter a year:1920\n",
      "leap year\n"
     ]
    }
   ],
   "source": [
    "def leapYearCheck(year):\n",
    "  year = int(year)\n",
    "  if (year % 4) == 0:\n",
    "    if (year % 100) == 0:\n",
    "      if (year % 400) == 0:\n",
    "        print(\"leap year\")\n",
    "      else:\n",
    "        print(\"not leap year\")\n",
    "    else:\n",
    "      print(\"leap year\")\n",
    "  else:\n",
    "    print(\"not leap year\")\n",
    "  \n",
    "  return\n",
    "\n",
    "year = input(\"Enter a year:\")\n",
    "leapYearCheck(year)"
   ]
  },
  {
   "cell_type": "code",
   "execution_count": 12,
   "metadata": {
    "id": "g3TJbMVJ_3b2"
   },
   "outputs": [
    {
     "name": "stdin",
     "output_type": "stream",
     "text": [
      "Enter the total no. of xor operation: 7\n"
     ]
    },
    {
     "name": "stdout",
     "output_type": "stream",
     "text": [
      "Enter 7 numbers\n"
     ]
    },
    {
     "name": "stdin",
     "output_type": "stream",
     "text": [
      " 1\n",
      " 2\n",
      " 3\n",
      " 4\n",
      " 5\n",
      " 6\n",
      " 7\n"
     ]
    },
    {
     "name": "stdout",
     "output_type": "stream",
     "text": [
      "The given numbers are:\n",
      "['1', '2', '3', '4', '5', '6', '7']\n",
      "The result is: 0\n",
      "\n"
     ]
    }
   ],
   "source": [
    "def xorImplement(n):\n",
    "    print(\"Enter \" + n + \" numbers\")\n",
    "    a = []\n",
    "    n = int(n)\n",
    "    for i in range(n):\n",
    "        a.append(input())\n",
    "    \n",
    "    print(\"The given numbers are:\")\n",
    "    print(a)\n",
    "    \n",
    "    result = int(a[0])\n",
    "    for i in range(1, n, 1):\n",
    "        result = result ^ int(a[i])\n",
    "    \n",
    "    print(\"The result is: \" + str(result) + \"\\n\")\n",
    "    return\n",
    "\n",
    "n = input(\"Enter the total no. of xor operation:\")\n",
    "xorImplement(n)"
   ]
  },
  {
   "cell_type": "code",
   "execution_count": null,
   "metadata": {},
   "outputs": [],
   "source": []
  }
 ],
 "metadata": {
  "colab": {
   "name": "Basic001-MMC .ipynb",
   "provenance": []
  },
  "kernelspec": {
   "display_name": "Python 3",
   "language": "python",
   "name": "python3"
  },
  "language_info": {
   "codemirror_mode": {
    "name": "ipython",
    "version": 3
   },
   "file_extension": ".py",
   "mimetype": "text/x-python",
   "name": "python",
   "nbconvert_exporter": "python",
   "pygments_lexer": "ipython3",
   "version": "3.7.4"
  }
 },
 "nbformat": 4,
 "nbformat_minor": 4
}

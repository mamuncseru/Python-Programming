{
  "nbformat": 4,
  "nbformat_minor": 0,
  "metadata": {
    "kernelspec": {
      "display_name": "Python 3",
      "language": "python",
      "name": "python3"
    },
    "language_info": {
      "codemirror_mode": {
        "name": "ipython",
        "version": 3
      },
      "file_extension": ".py",
      "mimetype": "text/x-python",
      "name": "python",
      "nbconvert_exporter": "python",
      "pygments_lexer": "ipython3",
      "version": "3.7.3"
    },
    "colab": {
      "name": "Basic001-MMC .ipynb",
      "provenance": []
    }
  },
  "cells": [
    {
      "cell_type": "markdown",
      "metadata": {
        "id": "W_Dqb0un_3bv"
      },
      "source": [
        "# Python Programming Basics"
      ]
    },
    {
      "cell_type": "markdown",
      "metadata": {
        "id": "Qq30DJZB_3bz"
      },
      "source": [
        "**Practice Topics**\n",
        "- Conditional\n",
        "- Functions\n",
        "- The While Loop\n",
        "- Break, Continue and the Try Statement\n",
        "- The For Loop\n",
        "- Classes"
      ]
    },
    {
      "cell_type": "markdown",
      "metadata": {
        "id": "wi9bBHtq_3b0"
      },
      "source": [
        "> Make a program which will determine a year is a leap year or not?\n",
        "\n",
        "> Build a xor function with n inputs."
      ]
    },
    {
      "cell_type": "code",
      "metadata": {
        "colab": {
          "base_uri": "https://localhost:8080/"
        },
        "id": "iowoJbEY_3b1",
        "outputId": "f191e12f-1bd4-4777-9caa-2d3e9807d687"
      },
      "source": [
        "def leapYearCheck(year):\n",
        "  year = int(year)\n",
        "  if (year % 4) == 0:\n",
        "    if (year % 100) == 0:\n",
        "      if (year % 400) == 0:\n",
        "        print(\"leap year\")\n",
        "      else:\n",
        "        print(\"not leap year\")\n",
        "    else:\n",
        "      print(\"leap year\")\n",
        "  else:\n",
        "    print(\"not leap year\")\n",
        "  \n",
        "  return\n",
        "\n",
        "year = input(\"Enter a year:\")\n",
        "leapYearCheck(year)"
      ],
      "execution_count": 4,
      "outputs": [
        {
          "output_type": "stream",
          "text": [
            "Enter a year:1920\n",
            "leap year\n"
          ],
          "name": "stdout"
        }
      ]
    },
    {
      "cell_type": "code",
      "metadata": {
        "id": "g3TJbMVJ_3b2"
      },
      "source": [
        ""
      ],
      "execution_count": null,
      "outputs": []
    }
  ]
}